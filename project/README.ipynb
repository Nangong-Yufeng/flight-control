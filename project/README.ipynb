{
 "cells": [
  {
   "cell_type": "markdown",
   "source": [
    "# 先装几个库"
   ],
   "metadata": {
    "collapsed": false,
    "pycharm": {
     "name": "#%% md\n"
    }
   }
  },
  {
   "cell_type": "code",
   "execution_count": 3,
   "outputs": [
    {
     "name": "stdout",
     "output_type": "stream",
     "text": [
      "Requirement already satisfied: numpy in /home/moxljk/miniconda3/envs/flightControl/lib/python3.8/site-packages (1.23.1)\r\n",
      "Requirement already satisfied: mavsdk in /home/moxljk/miniconda3/envs/flightControl/lib/python3.8/site-packages (1.4.0)\r\n",
      "Requirement already satisfied: pygame in /home/moxljk/miniconda3/envs/flightControl/lib/python3.8/site-packages (2.1.2)\r\n",
      "Requirement already satisfied: grpcio>=1.11.0 in /home/moxljk/miniconda3/envs/flightControl/lib/python3.8/site-packages (from mavsdk) (1.47.0)\r\n",
      "Requirement already satisfied: protobuf>=3.20.1 in /home/moxljk/miniconda3/envs/flightControl/lib/python3.8/site-packages (from mavsdk) (4.21.2)\r\n",
      "Requirement already satisfied: aiogrpc>=1.5 in /home/moxljk/miniconda3/envs/flightControl/lib/python3.8/site-packages (from mavsdk) (1.8)\r\n",
      "Requirement already satisfied: six>=1.5.2 in /home/moxljk/miniconda3/envs/flightControl/lib/python3.8/site-packages (from grpcio>=1.11.0->mavsdk) (1.16.0)\r\n"
     ]
    }
   ],
   "source": [
    "!pip3 install numpy mavsdk pygame\n",
    "# 或许会很慢，我也不知道为啥这么慢。\n",
    "# 建议直接在终端里装"
   ],
   "metadata": {
    "collapsed": false,
    "pycharm": {
     "name": "#%%\n"
    }
   }
  },
  {
   "cell_type": "code",
   "execution_count": null,
   "outputs": [],
   "source": [],
   "metadata": {
    "collapsed": false,
    "pycharm": {
     "name": "#%%\n"
    }
   }
  }
 ],
 "metadata": {
  "kernelspec": {
   "display_name": "Python 3",
   "language": "python",
   "name": "python3"
  },
  "language_info": {
   "codemirror_mode": {
    "name": "ipython",
    "version": 2
   },
   "file_extension": ".py",
   "mimetype": "text/x-python",
   "name": "python",
   "nbconvert_exporter": "python",
   "pygments_lexer": "ipython2",
   "version": "2.7.6"
  }
 },
 "nbformat": 4,
 "nbformat_minor": 0
}